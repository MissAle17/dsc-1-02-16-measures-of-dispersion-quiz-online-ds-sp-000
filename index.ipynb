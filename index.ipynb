{
 "cells": [
  {
   "cell_type": "markdown",
   "metadata": {},
   "source": [
    "# Measures of Dispersion - Quiz\n",
    "\n",
    "## Objectives\n",
    "You will be able to:\n",
    "* Describe the significance of calculating measures of dispersion for continuous data\n",
    "* Understand the formula and intuition behind mean absolute deviation, standard deviation and variance\n",
    "* Understand the formula and intuition behind quantiles/quartiles and percentiles\n",
    "* Understand and interpret Interquartile distances with box plots"
   ]
  },
  {
   "cell_type": "markdown",
   "metadata": {},
   "source": [
    "## Exercise 1\n",
    "Summary statistics for two samples of data are\n",
    "```\n",
    "Sample 1:\t\n",
    "mean = 19 \n",
    "variance = 10\n",
    "\n",
    "Sample 2:\t\n",
    "mean = 10\n",
    "variance = 19\n",
    "```\n",
    "Which sample has the larger spread of observations?"
   ]
  },
  {
   "cell_type": "code",
   "execution_count": 22,
   "metadata": {},
   "outputs": [],
   "source": [
    "# Sample 2"
   ]
  },
  {
   "cell_type": "markdown",
   "metadata": {},
   "source": [
    "## Exercise 2\n",
    "Consider the following ordered set of data\n",
    "```\n",
    "4 4 4 9 5 0 5 1 5 3 5 7 5 8 6 2\n",
    "\n",
    "6 6 6 6 6 8 7 1 7 5 7 7 8 0 8 5\n",
    "```\n",
    "\n",
    "* What is the IQR? \n",
    "* Optional extension: Verify your answer in Python "
   ]
  },
  {
   "cell_type": "code",
   "execution_count": 14,
   "metadata": {},
   "outputs": [
    {
     "name": "stdout",
     "output_type": "stream",
     "text": [
      "[0, 0, 1, 1, 2, 3, 4, 4, 4, 5, 5, 5, 5, 5, 5, 5, 6, 6, 6, 6, 6, 6, 7, 7, 7, 7, 7, 8, 8, 8, 8, 9] 32\n",
      "[0, 0, 1, 1, 2, 3, 4, 4, 4, 5, 5, 5, 5, 5, 5, 5] [6, 6, 6, 6, 6, 6, 7, 7, 7, 7, 7, 8, 8, 8, 8, 9]\n",
      "4 7\n",
      "3\n"
     ]
    }
   ],
   "source": [
    "exercise_two_list = [4, 4, 4, 9, 5, 0, 5, 1, 5, 3, 5, 7, 5, 8, 6, 2, 6, 6, 6, 6, 6, 8, 7, 1, 7, 5, 7, 7, 8, 0, 8, 5]\n",
    "updated_list = sorted(exercise_two_list)\n",
    "print(updated_list, len(updated_list))\n",
    "quartile_onetwo = updated_list[:16]\n",
    "quartile_threefour=updated_list[16:]\n",
    "print(quartile_onetwo, quartile_threefour)\n",
    "quartile_one =quartile_onetwo[int(len(quartile_onetwo)/2)]\n",
    "quartile_three = quartile_threefour[int(len(quartile_threefour)/2)]\n",
    "print(quartile_one,quartile_three)\n",
    "iqr = quartile_three-quartile_one\n",
    "print(iqr)"
   ]
  },
  {
   "cell_type": "markdown",
   "metadata": {},
   "source": [
    "### Exercise 3\n",
    "Create a box-and-whisker plot for the judges' scores for an artist's performances in a talent competition.\n",
    "\n",
    "```\n",
    "Evan L\t52\n",
    "Nicole S  50\n",
    "Pamela A  47\n",
    "Chad O\t44\n",
    "Erin A\t39\n",
    "Jake P\t38\n",
    "Niecy N   36\n",
    "Kate G\t32\n",
    "```\n",
    "Create a box plot in matplotlib to identify the median for giving a final score to the artist. Are there any outliers ?"
   ]
  },
  {
   "cell_type": "code",
   "execution_count": 16,
   "metadata": {},
   "outputs": [
    {
     "data": {
      "image/png": "[encoded data removed]",
      "text/plain": [
       "<Figure size 432x288 with 1 Axes>"
      ]
     },
     "metadata": {},
     "output_type": "display_data"
    }
   ],
   "source": [
    "import matplotlib.pyplot as plt\n",
    "plt.style.use('ggplot') \n",
    "x = [52,50,47,44,39,38,36,32]\n",
    "plt.boxplot(x,  showfliers=False)\n",
    "plt.title (\"Scores Plot\")\n",
    "plt.show()"
   ]
  },
  {
   "cell_type": "code",
   "execution_count": 18,
   "metadata": {},
   "outputs": [],
   "source": [
    "#median = 41.5 - does not appear to be outliers"
   ]
  },
  {
   "cell_type": "markdown",
   "metadata": {},
   "source": [
    "### Exercise 4\n",
    "Imagine that the number of marriages registered over a 10 year period were as follows:\n",
    "\n",
    "Table 1.  Number of registered marriages\n",
    "```\n",
    "Year  Number of marriages\n",
    "\n",
    "1\t40,650\n",
    "2\t40,812\n",
    "3\t41,300\n",
    "4\t41,450\n",
    "5\t39,594\n",
    "6\t40,734\n",
    "7\t39,993\n",
    "8\t38,814\n",
    "9\t37,828\n",
    "10   35,716\n",
    "```\n",
    "Using the data above:\n",
    "\n",
    "####  Find the median "
   ]
  },
  {
   "cell_type": "code",
   "execution_count": 24,
   "metadata": {},
   "outputs": [
    {
     "name": "stdout",
     "output_type": "stream",
     "text": [
      "[3999, 35716, 37828, 38814, 39594, 40650, 40734, 40812, 41300, 41450]\n"
     ]
    },
    {
     "data": {
      "text/plain": [
       "40122.0"
      ]
     },
     "execution_count": 24,
     "metadata": {},
     "output_type": "execute_result"
    }
   ],
   "source": [
    "marriages = [40650,40812,41300,41450,39594, 40734,3999,38814,37828,35716]\n",
    "num_marriages=sorted(marriages)\n",
    "median = (num_marriages[4] + num_marriages[5])/2\n",
    "print(num_marriages)\n",
    "median"
   ]
  },
  {
   "cell_type": "markdown",
   "metadata": {},
   "source": [
    "#### Find the upper and lower quartiles"
   ]
  },
  {
   "cell_type": "code",
   "execution_count": 22,
   "metadata": {},
   "outputs": [
    {
     "name": "stdout",
     "output_type": "stream",
     "text": [
      "[3999, 35716, 37828, 38814, 39594] [40650, 40734, 40812, 41300, 41450]\n",
      "37828 40812\n"
     ]
    }
   ],
   "source": [
    "# Your answer here \n",
    "quartile_onetwo = num_marriages[:5]\n",
    "quartile_threefour=num_marriages[5:]\n",
    "print(quartile_onetwo, quartile_threefour)\n",
    "quartile_one =quartile_onetwo[int(len(quartile_onetwo)/2)]\n",
    "quartile_three = quartile_threefour[int(len(quartile_threefour)/2)]\n",
    "print(quartile_one,quartile_three)"
   ]
  },
  {
   "cell_type": "markdown",
   "metadata": {},
   "source": [
    "#### Calculate the interquartile range\n"
   ]
  },
  {
   "cell_type": "code",
   "execution_count": 25,
   "metadata": {},
   "outputs": [
    {
     "data": {
      "text/plain": [
       "2984"
      ]
     },
     "execution_count": 25,
     "metadata": {},
     "output_type": "execute_result"
    }
   ],
   "source": [
    "iqr =quartile_three-quartile_one\n",
    "iqr"
   ]
  },
  {
   "cell_type": "markdown",
   "metadata": {},
   "source": [
    "#### Plot a histogram to verify your answers"
   ]
  },
  {
   "cell_type": "code",
   "execution_count": 26,
   "metadata": {},
   "outputs": [
    {
     "data": {
      "image/png": "[encoded data removed]",
      "text/plain": [
       "<Figure size 432x288 with 1 Axes>"
      ]
     },
     "metadata": {},
     "output_type": "display_data"
    }
   ],
   "source": [
    "plt.style.use('ggplot') \n",
    "x = [3999, 35716, 37828, 38814, 39594, 40650, 40734, 40812, 41300, 41450]\n",
    "plt.boxplot(x,  showfliers=False)\n",
    "plt.title (\"Number of Marriages\")\n",
    "plt.show()"
   ]
  },
  {
   "cell_type": "code",
   "execution_count": null,
   "metadata": {},
   "outputs": [],
   "source": []
  }
 ],
 "metadata": {
  "kernelspec": {
   "display_name": "Python 3",
   "language": "python",
   "name": "python3"
  },
  "language_info": {
   "codemirror_mode": {
    "name": "ipython",
    "version": 3
   },
   "file_extension": ".py",
   "mimetype": "text/x-python",
   "name": "python",
   "nbconvert_exporter": "python",
   "pygments_lexer": "ipython3",
   "version": "3.6.5"
  }
 },
 "nbformat": 4,
 "nbformat_minor": 2
}
